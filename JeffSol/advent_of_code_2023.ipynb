{
 "cells": [
  {
   "cell_type": "markdown",
   "id": "50f6922a",
   "metadata": {},
   "source": [
    "# Day 1 Part 1\n",
    "The newly-improved calibration document consists of lines of text; each line originally contained a specific calibration value that the Elves now need to recover. On each line, the calibration value can be found by combining the first digit and the last digit (in that order) to form a single two-digit number."
   ]
  },
  {
   "cell_type": "code",
   "execution_count": 3,
   "id": "fc087222",
   "metadata": {},
   "outputs": [
    {
     "name": "stdout",
     "output_type": "stream",
     "text": [
      "53334\n"
     ]
    }
   ],
   "source": [
    "file_name = \"day1.txt\"\n",
    "with open(file_name) as file:\n",
    "    nums = []\n",
    "    for row in file:\n",
    "        s = row.strip()\n",
    "        acc = []\n",
    "        for i in s:\n",
    "            if i.isdigit():\n",
    "                acc.append(i)\n",
    "        if (len(acc) < 1):\n",
    "            nums.append(int(acc[0] * 2))\n",
    "        else:\n",
    "            nums.append(int(acc[0] + acc[-1]))\n",
    "    \n",
    "    print(sum(nums))"
   ]
  },
  {
   "cell_type": "markdown",
   "id": "6a192455",
   "metadata": {},
   "source": [
    "# Day 1 Part 2\n",
    "Your calculation isn't quite right. It looks like some of the digits are actually spelled out with letters: one, two, three, four, five, six, seven, eight, and nine also count as valid \"digits\"."
   ]
  },
  {
   "cell_type": "code",
   "execution_count": 28,
   "id": "2c037ec1",
   "metadata": {},
   "outputs": [
    {
     "name": "stdout",
     "output_type": "stream",
     "text": [
      "52834\n"
     ]
    }
   ],
   "source": [
    "def get_possible_digits(s):\n",
    "    digits = {\"one\": \"1\", \"two\": \"2\", \"three\": \"3\", \"four\": \"4\", \"five\": \"5\", \"six\": \"6\", \"seven\": \"7\", \"eight\": \"8\", \"nine\": \"9\"}\n",
    "    acc = []\n",
    "    for i in range(len(s)):\n",
    "        if s[i].isdigit():\n",
    "            acc.append((s[i]))\n",
    "        else:\n",
    "            for j in range(i, len(s)):\n",
    "                digit = s[i:j+1]\n",
    "\n",
    "                if digit in digits:\n",
    "                    acc.append(digits[digit])\n",
    "    return acc\n",
    "\n",
    "get_possible_digits(\"four9one\")\n",
    "\n",
    "file_name = \"day1.txt\"\n",
    "with open(file_name) as file:\n",
    "    nums = []\n",
    "    for row in file:\n",
    "        s = row.strip()\n",
    "        acc = get_possible_digits(s)\n",
    "        \n",
    "        if len(acc) < 2:\n",
    "            nums.append(int(acc[0] * 2))\n",
    "        else:\n",
    "            nums.append(int(acc[0] + acc[-1]))\n",
    "    \n",
    "    print(sum(nums))"
   ]
  },
  {
   "cell_type": "markdown",
   "id": "aee7847d",
   "metadata": {},
   "source": [
    "# Day 2 Part 1\n",
    "Determine which games would have been possible if the bag had been loaded with only 12 red cubes, 13 green cubes, and 14 blue cubes. What is the sum of the IDs of those games?"
   ]
  },
  {
   "cell_type": "code",
   "execution_count": 12,
   "id": "051a2377",
   "metadata": {},
   "outputs": [
    {
     "name": "stdout",
     "output_type": "stream",
     "text": [
      "2913\n"
     ]
    }
   ],
   "source": [
    "file_name = \"day2.txt\"\n",
    "\n",
    "d = {\"red\": 12, \"green\": 13, \"blue\": 14}\n",
    "\n",
    "with open(file_name) as file:\n",
    "    acc = []\n",
    "    for row in file:\n",
    "        s = row.strip()\n",
    "        sets = s.split(\": \")[1].split(\"; \")\n",
    "        impossible = False\n",
    "        for set in sets:\n",
    "            if impossible:\n",
    "                break\n",
    "                \n",
    "            draws = set.split(\", \")\n",
    "            for draw in draws:\n",
    "                amt = int(draw.split(\" \")[0])\n",
    "                color = draw.split(\" \")[1]\n",
    "                if amt > d[color]:\n",
    "                    impossible = True\n",
    "                    break\n",
    "        if not impossible:\n",
    "            acc.append(int(s.split(\": \")[0].split(\" \")[1]))\n",
    "    print(sum(acc))"
   ]
  },
  {
   "cell_type": "markdown",
   "id": "073ff97b",
   "metadata": {},
   "source": [
    "# Day 2 Part 2\n",
    "As you continue your walk, the Elf poses a second question: in each game you played, what is the fewest number of cubes of each color that could have been in the bag to make the game possible?\n",
    "\n",
    "For each game, find the minimum set of cubes that must have been present. What is the sum of the power of these sets?"
   ]
  },
  {
   "cell_type": "code",
   "execution_count": 14,
   "id": "08bec271",
   "metadata": {},
   "outputs": [
    {
     "name": "stdout",
     "output_type": "stream",
     "text": [
      "55593\n"
     ]
    }
   ],
   "source": [
    "file_name = \"day2.txt\"\n",
    "\n",
    "with open(file_name) as file:\n",
    "    powers = []\n",
    "    for row in file:\n",
    "        min_red = 0\n",
    "        min_green = 0\n",
    "        min_blue = 0\n",
    "        \n",
    "        s = row.strip()\n",
    "        sets = s.split(\": \")[1].split(\"; \")\n",
    "        for set in sets:\n",
    "            draws = set.split(\", \")\n",
    "            for draw in draws:\n",
    "                amt = int(draw.split(\" \")[0])\n",
    "                color = draw.split(\" \")[1]\n",
    "                \n",
    "                if color == \"red\":\n",
    "                    min_red = max(min_red, amt)\n",
    "                elif color == \"green\":\n",
    "                    min_green = max(min_green, amt)\n",
    "                else:\n",
    "                    min_blue = max(min_blue, amt)\n",
    "        powers.append(min_red * min_green * min_blue)\n",
    "    print(sum(powers))"
   ]
  },
  {
   "cell_type": "markdown",
   "id": "895d669b",
   "metadata": {},
   "source": [
    "# Day 3 Part 1\n",
    "The engineer explains that an engine part seems to be missing from the engine, but nobody can figure out which one. If you can add up all the part numbers in the engine schematic, it should be easy to work out which part is missing.\n",
    "\n",
    "The engine schematic (your puzzle input) consists of a visual representation of the engine. There are lots of numbers and symbols you don't really understand, but apparently any number adjacent to a symbol, even diagonally, is a \"part number\" and should be included in your sum. (Periods (.) do not count as a symbol.)\n",
    "\n",
    "Example:\n",
    "\n",
    "```\n",
    "467..114..\n",
    "...*......\n",
    "..35..633.\n",
    "......#...\n",
    "617*......\n",
    ".....+.58.\n",
    "..592.....\n",
    "......755.\n",
    "...$.*....\n",
    ".664.598..\n",
    "```"
   ]
  },
  {
   "cell_type": "code",
   "execution_count": 32,
   "id": "072a71cc",
   "metadata": {},
   "outputs": [
    {
     "name": "stdout",
     "output_type": "stream",
     "text": [
      "557705\n"
     ]
    }
   ],
   "source": [
    "import re\n",
    "\n",
    "file_name = \"day3.txt\"\n",
    "with open(file_name) as file:\n",
    "    rows = [row.strip() for row in file.readlines()]\n",
    "    acc = [] #store the numbers that are part numbers\n",
    "    \n",
    "    for i in range(len(rows)):\n",
    "        for match in re.finditer(r'\\d+', rows[i]):\n",
    "            part_num = int(match.group())\n",
    "            start = match.start()\n",
    "            end = match.end()\n",
    "            \n",
    "            adj_rows = ''\n",
    "            \n",
    "            for j in range(max(i-1, 0), min(i+2, len(rows))):\n",
    "                adj_rows += rows[j][max(0, start-1):min(len(rows), end+1)]\n",
    "            \n",
    "            if re.search(r'[^\\w\\.]', adj_rows):\n",
    "                acc.append(part_num)\n",
    "        \n",
    "    print(sum(acc))"
   ]
  },
  {
   "cell_type": "markdown",
   "id": "e7f2d11f",
   "metadata": {},
   "source": [
    "# Day 3 Part 2\n",
    "The missing part wasn't the only issue - one of the gears in the engine is wrong. A gear is any * symbol that is adjacent to exactly two part numbers. Its gear ratio is the result of multiplying those two numbers together.\n",
    "\n",
    "This time, you need to find the gear ratio of every gear and add them all up so that the engineer can figure out which gear needs to be replaced."
   ]
  },
  {
   "cell_type": "code",
   "execution_count": 60,
   "id": "3190610b",
   "metadata": {},
   "outputs": [
    {
     "name": "stdout",
     "output_type": "stream",
     "text": [
      "84266818\n"
     ]
    }
   ],
   "source": [
    "import re\n",
    "\n",
    "file_name = \"day3.txt\"\n",
    "with open(file_name) as file:\n",
    "    rows = [row.strip() for row in file.readlines()]\n",
    "    acc = [] #store the gear ratios\n",
    "    \n",
    "    for i in range(len(rows)):\n",
    "        for match in re.finditer(r'\\*', rows[i]):\n",
    "            adj_rows = rows[max(i-1, 0):min(i+2,len(rows))]\n",
    "            to_search = []\n",
    "            start = match.start()\n",
    "            end = match.end()\n",
    "#             for row in adj_rows:\n",
    "#                 to_search.append(row[max(0, start - 3):min(end+3, len(row))])\n",
    "            \n",
    "            adj_nums = []\n",
    "            for row in adj_rows:\n",
    "#                 print(row)\n",
    "                for match in re.finditer(r'\\d+', row):\n",
    "                    pos_range = {start - 1, start, end}\n",
    "#                     print(match.start(), match.end(), start)\n",
    "                    if match.start() in pos_range or match.end() -1 in pos_range:\n",
    "                        adj_nums.append(int(match.group()))\n",
    "            \n",
    "#             print(adj_nums)\n",
    "            \n",
    "            if len(adj_nums) == 2:\n",
    "                acc.append(adj_nums[0] * adj_nums[1])\n",
    "    print(sum(acc))"
   ]
  },
  {
   "cell_type": "markdown",
   "id": "818dd0cc",
   "metadata": {},
   "source": [
    "# Day 4 Part 1\n",
    "The Elf leads you over to the pile of colorful cards. There, you discover dozens of scratchcards, all with their opaque covering already scratched off. Picking one up, it looks like each card has two lists of numbers separated by a vertical bar (|): a list of winning numbers and then a list of numbers you have. You organize the information into a table (your puzzle input).\n",
    "\n",
    "As far as the Elf has been able to figure out, you have to figure out which of the numbers you have appear in the list of winning numbers. The first match makes the card worth one point and each match after the first doubles the point value of that card."
   ]
  },
  {
   "cell_type": "code",
   "execution_count": 23,
   "id": "1bf3c9ff",
   "metadata": {},
   "outputs": [
    {
     "name": "stdout",
     "output_type": "stream",
     "text": [
      "13\n"
     ]
    }
   ],
   "source": [
    "import re\n",
    "\n",
    "file_name = \"day4.txt\"\n",
    "with open(file_name) as file:\n",
    "    scores = []\n",
    "    for row in file:\n",
    "        row = row.strip()\n",
    "        numbers = row.split(\": \")[1]\n",
    "        num_split = numbers.split(\" | \")\n",
    "        winning_str = num_split[0]\n",
    "        card_nums = num_split[1]\n",
    "        \n",
    "        d = set()\n",
    "        \n",
    "        for match in re.finditer(r'\\d+', card_nums):\n",
    "            d.add(int(match.group()))\n",
    "        \n",
    "        num_matches = 0\n",
    "        for match in re.finditer(r'\\d+', winning_str):\n",
    "            if int(match.group()) in d:\n",
    "                num_matches += 1\n",
    "        \n",
    "        if num_matches == 0:\n",
    "            score = 0\n",
    "        else:\n",
    "            score = 2**(num_matches-1)\n",
    "            \n",
    "        scores.append(score)\n",
    "        \n",
    "    print(sum(scores))"
   ]
  },
  {
   "cell_type": "markdown",
   "id": "be93bcff",
   "metadata": {},
   "source": [
    "# Day 4 Part 2\n",
    "There's no such thing as \"points\". Instead, scratchcards only cause you to win more scratchcards equal to the number of winning numbers you have.\n",
    "\n",
    "Specifically, you win copies of the scratchcards below the winning card equal to the number of matches. So, if card 10 were to have 5 matching numbers, you would win one copy each of cards 11, 12, 13, 14, and 15.\n",
    "\n",
    "Copies of scratchcards are scored like normal scratchcards and have the same card number as the card they copied. So, if you win a copy of card 10 and it has 5 matching numbers, it would then win a copy of the same cards that the original card 10 won: cards 11, 12, 13, 14, and 15. This process repeats until none of the copies cause you to win any more cards. (Cards will never make you copy a card past the end of the table.)"
   ]
  },
  {
   "cell_type": "code",
   "execution_count": 33,
   "id": "57bdf0d0",
   "metadata": {},
   "outputs": [
    {
     "name": "stdout",
     "output_type": "stream",
     "text": [
      "5744979\n"
     ]
    }
   ],
   "source": [
    "import re\n",
    "from collections import defaultdict\n",
    "\n",
    "file_name = \"day4.txt\"\n",
    "with open(file_name) as file:\n",
    "    copies = defaultdict(lambda: 1)\n",
    "    total_copies = 0\n",
    "    for row in file:\n",
    "        row = row.strip()\n",
    "        numbers = row.split(\": \")\n",
    "        card_number = int(re.search(r'\\d+', numbers[0]).group())\n",
    "        num_split = numbers[1].split(\" | \")\n",
    "        winning_str = num_split[0]\n",
    "        containing_nums = num_split[1]\n",
    "        \n",
    "        d = set()\n",
    "        \n",
    "        for match in re.finditer(r'\\d+', containing_nums):\n",
    "            d.add(int(match.group()))\n",
    "        \n",
    "        num_matches = 0\n",
    "        for match in re.finditer(r'\\d+', winning_str):\n",
    "            if int(match.group()) in d:\n",
    "                num_matches += 1\n",
    "        \n",
    "        for i in range(num_matches):\n",
    "            copies[card_number + i + 1] += copies[card_number]\n",
    "        total_copies += copies[card_number]\n",
    "        \n",
    "    print(total_copies)"
   ]
  },
  {
   "cell_type": "markdown",
   "id": "4457d262",
   "metadata": {},
   "source": [
    "# Day 5 Part 1\n",
    "The rest of the almanac contains a list of maps which describe how to convert numbers from a source category into numbers in a destination category. That is, the section that starts with seed-to-soil map: describes how to convert a seed number (the source) to a soil number (the destination). This lets the gardener and his team know which soil to use with which seeds, which water to use with which fertilizer, and so on.\n",
    "\n",
    "Rather than list every source number and its corresponding destination number one by one, the maps describe entire ranges of numbers that can be converted. Each line within a map contains three numbers: the destination range start, the source range start, and the range length.\n",
    "\n",
    "The gardener and his team want to get started as soon as possible, so they'd like to know the closest location that needs a seed. Using these maps, find the lowest location number that corresponds to any of the initial seeds. To do this, you'll need to convert each seed number through other categories until you can find its corresponding location number. In this example, the corresponding types are:"
   ]
  },
  {
   "cell_type": "code",
   "execution_count": 35,
   "id": "c9aadb80",
   "metadata": {},
   "outputs": [
    {
     "name": "stdout",
     "output_type": "stream",
     "text": [
      "457535844\n"
     ]
    }
   ],
   "source": [
    "import re\n",
    "\n",
    "file_name = \"day5.txt\"\n",
    "\n",
    "with open(file_name) as file:\n",
    "    lines = [s.strip() for s in file.readlines()]\n",
    "    seeds_row = lines[0]\n",
    "    seeds = []\n",
    "    d = {}\n",
    "    d[\"seeds\"] = {}\n",
    "    for match in re.finditer(r'\\d+', seeds_row):\n",
    "        d[\"seeds\"][int(match.group())] = int(match.group())\n",
    "    \n",
    "    cur_map = \"seeds\"\n",
    "    prev_map = \"seeds\"\n",
    "    for line in lines[2:]:\n",
    "        if \":\" in line:\n",
    "            prev_map = cur_map\n",
    "            cur_map = line[:-1]\n",
    "            d[cur_map] = {}\n",
    "        elif line == '':\n",
    "            continue\n",
    "        else:\n",
    "            line_spl = line.split(\" \")\n",
    "            dest_start = int(line_spl[0])\n",
    "            source_start = int(line_spl[1])\n",
    "            rang = int(line_spl[2])\n",
    "            \n",
    "            for source in d[prev_map].values():\n",
    "                if source >= source_start and source < source_start + rang:\n",
    "                    d[cur_map][source] = dest_start + (source - source_start)\n",
    "    \n",
    "    location_values = list(d[\"humidity-to-location map\"].values())\n",
    "    smallest = location_values[0]\n",
    "    for v in location_values:\n",
    "        if v < smallest:\n",
    "            smallest = v\n",
    "    \n",
    "    print(smallest)"
   ]
  },
  {
   "cell_type": "markdown",
   "id": "a484b974",
   "metadata": {},
   "source": [
    "# Day 5 Part 2\n",
    "The values on the initial seeds: line come in pairs. Within each pair, the first value is the start of the range and the second value is the length of the range. So, in the first line of the example above:\n",
    "\n",
    "seeds: 79 14 55 13\n",
    "This line describes two ranges of seed numbers to be planted in the garden. The first range starts with seed number 79 and contains 14 values: 79, 80, ..., 91, 92. The second range starts with seed number 55 and contains 13 values: 55, 56, ..., 66, 67.\n",
    "\n",
    "Now, rather than considering four seed numbers, you need to consider a total of 27 seed numbers."
   ]
  },
  {
   "cell_type": "code",
   "execution_count": 97,
   "id": "bab6e853",
   "metadata": {},
   "outputs": [],
   "source": [
    "import re\n",
    "import portion as p\n",
    "\n",
    "file_name = \"day5.txt\"\n",
    "\n",
    "with open(file_name) as file:\n",
    "    lines = [s.strip() for s in file.readlines()]\n",
    "    seeds_row = lines[0]\n",
    "    seeds = []\n",
    "    d = {}\n",
    "    d[\"seeds\"] = {}\n",
    "\n",
    "    for match in re.finditer(r'\\d+', seeds_row):\n",
    "        seeds.append(int(match.group()))\n",
    "    \n",
    "    seeds_start = seeds[0::2]\n",
    "    seeds_range = seeds[1::2]\n",
    "    \n",
    "    for idx, seed in enumerate(seeds_start):\n",
    "        d[\"seeds\"][(seed, seed+seeds_range[idx])] = p.closedopen(seed, seed+seeds_range[idx])\n",
    "    \n",
    "    cur_map = \"seeds\"\n",
    "    prev_map = \"seeds\"\n",
    "    for line in lines[2:]:\n",
    "        if \":\" in line:\n",
    "            prev_map = cur_map\n",
    "            cur_map = line[:-1]\n",
    "            d[cur_map] = {}\n",
    "        elif line == '':\n",
    "            continue\n",
    "        else:\n",
    "            line_spl = line.split(\" \")\n",
    "            dest_interv = p.closedopen(int(line_spl[0]), int(line_spl[0]) + int(line_spl[2]))\n",
    "            source_interv = p.closedopen(int(line_spl[1]), int(line_spl[1]) + int(line_spl[2]))\n",
    "\n",
    "            for source in d[prev_map].values():\n",
    "                overlap = source & source_interv\n",
    "                if not overlap.empty:\n",
    "                    dest_interv_start = dest_interv.lower + overlap.lower - source_interv.lower\n",
    "                    dest_interv_range = overlap.upper - overlap.lower\n",
    "                    dest_interv_end = dest_interv_start + dest_interv_range\n",
    "                    d[cur_map][overlap] = p.closedopen(dest_interv_start, dest_interv_end)\n",
    "                    non_overlap = source - overlap\n",
    "                    d[cur_map][non_overlap] = non_overlap\n",
    "                else:\n",
    "                    d[cur_map][source] = source\n",
    "\n",
    "    location_values = d[\"humidity-to-location map\"].values()\n",
    "\n",
    "    smallest = min(location_values, key=lambda x: x.lower)\n",
    "    smallest"
   ]
  },
  {
   "cell_type": "markdown",
   "id": "1fde54a9",
   "metadata": {},
   "source": [
    "# Day 6 Part 1\n",
    "To see how much margin of error you have, determine the number of ways you can beat the record in each race; in this example, if you multiply these values together, you get 288 (4 * 8 * 9).\n",
    "\n",
    "Determine the number of ways you could beat the record in each race. What do you get if you multiply these numbers together?"
   ]
  },
  {
   "cell_type": "code",
   "execution_count": 130,
   "id": "df42f741",
   "metadata": {},
   "outputs": [
    {
     "name": "stdout",
     "output_type": "stream",
     "text": [
      "[29, 19, 19, 21]\n",
      "219849\n"
     ]
    }
   ],
   "source": [
    "import re\n",
    "\n",
    "'''\n",
    "Strategy:\n",
    "Iterate through each time starting at i=1, i=2, ..., i = n\n",
    "Calculate the total velocity and see what the total distance will be based on the remaining time\n",
    "'''\n",
    "\n",
    "with open(\"day6.txt\") as file:\n",
    "    lines = [row.strip() for row in file.readlines()]\n",
    "    times = [int(time) for time in re.findall(r'\\d+', lines[0])]\n",
    "    distances = [int(distance) for distance in re.findall(r'\\d+', lines[1])]\n",
    "    \n",
    "    num_ways = []\n",
    "    \n",
    "    for t, d in zip(times, distances):\n",
    "        num_way = 0\n",
    "        for i in range(0, t+1):\n",
    "            cur_speed = i\n",
    "            remaining_time = t - i\n",
    "            total_distance = cur_speed * remaining_time\n",
    "            \n",
    "            if total_distance > d:\n",
    "                num_way += 1\n",
    "        \n",
    "        num_ways.append(num_way)\n",
    "    \n",
    "    print(num_ways)\n",
    "    \n",
    "    prod = 1\n",
    "    for num in num_ways:\n",
    "        prod = prod * num\n",
    "    \n",
    "    print(prod)"
   ]
  },
  {
   "cell_type": "markdown",
   "id": "5a246f0e",
   "metadata": {},
   "source": [
    "# Day 6 Part 2\n",
    "As the race is about to start, you realize the piece of paper with race times and record distances you got earlier actually just has very bad kerning. There's really only one race - ignore the spaces between the numbers on each line."
   ]
  },
  {
   "cell_type": "code",
   "execution_count": 129,
   "id": "6301af7a",
   "metadata": {},
   "outputs": [
    {
     "name": "stdout",
     "output_type": "stream",
     "text": [
      "29432455\n"
     ]
    }
   ],
   "source": [
    "import re\n",
    "\n",
    "'''\n",
    "Strategy:\n",
    "Iterate through each time starting at i=1, i=2, ..., i = n\n",
    "Calculate the total velocity and see what the total distance will be based on the remaining time\n",
    "'''\n",
    "\n",
    "with open(\"day6.txt\") as file:\n",
    "    lines = [row.strip() for row in file.readlines()]\n",
    "    time = int(''.join(re.findall(r'\\d+', lines[0])))\n",
    "    distance = int(''.join(re.findall(r'\\d+', lines[1])))\n",
    "    \n",
    "    start_win_time = 0\n",
    "    end_win_time = 0\n",
    "    \n",
    "    for i in range(0, time+1):\n",
    "        cur_speed = i\n",
    "        remaining_time = time - i\n",
    "        total_distance = cur_speed * remaining_time\n",
    "\n",
    "        if total_distance > distance:\n",
    "            start_win_time = i\n",
    "            break\n",
    "            \n",
    "    for i in range(time, start_win_time, -1):\n",
    "        cur_speed = i\n",
    "        remaining_time = time - i\n",
    "        total_distance = cur_speed * remaining_time\n",
    "\n",
    "        if total_distance > distance:\n",
    "            end_win_time = i\n",
    "            break\n",
    "    print(end_win_time - start_win_time + 1)"
   ]
  },
  {
   "cell_type": "markdown",
   "id": "ddda2b77",
   "metadata": {},
   "source": [
    "# Day 7 Part 1\n",
    "In Camel Cards, you get a list of hands, and your goal is to order them based on the strength of each hand. A hand consists of five cards labeled one of A, K, Q, J, T, 9, 8, 7, 6, 5, 4, 3, or 2. The relative strength of each card follows this order, where A is the highest and 2 is the lowest.\n",
    "\n",
    "Every hand is exactly one type. From strongest to weakest, they are:\n",
    "```\n",
    "Five of a kind, where all five cards have the same label: AAAAA\n",
    "Four of a kind, where four cards have the same label and one card has a different label: AA8AA\n",
    "Full house, where three cards have the same label, and the remaining two cards share a different label: 23332\n",
    "Three of a kind, where three cards have the same label, and the remaining two cards are each different from any other card in the hand: TTT98\n",
    "Two pair, where two cards share one label, two other cards share a second label, and the remaining card has a third label: 23432\n",
    "One pair, where two cards share one label, and the other three cards have a different label from the pair and each other: A23A4\n",
    "High card, where all cards' labels are distinct: 23456\n",
    "```\n",
    "To play Camel Cards, you are given a list of hands and their corresponding bid (your puzzle input).\n",
    "\n",
    "If two hands have the same type, a second ordering rule takes effect. Start by comparing the first card in each hand. If these cards are different, the hand with the stronger first card is considered stronger. If the first card in each hand have the same label, however, then move on to considering the second card in each hand. If they differ, the hand with the higher second card wins; otherwise, continue with the third card in each hand, then the fourth, then the fifth.\n",
    "\n",
    "This example shows five hands; each hand is followed by its bid amount. Each hand wins an amount equal to its bid multiplied by its rank, where the weakest hand gets rank 1, the second-weakest hand gets rank 2, and so on up to the strongest hand. Because there are five hands in this example, the strongest hand will have rank 5 and its bid will be multiplied by 5.\n",
    "\n",
    "Find the rank of every hand in your set. What are the total winnings?"
   ]
  },
  {
   "cell_type": "code",
   "execution_count": 34,
   "id": "d6f5e5ba",
   "metadata": {},
   "outputs": [
    {
     "name": "stdout",
     "output_type": "stream",
     "text": [
      "[('JJJJJ', 503, 7), ('AAAJA', 158, 6), ('AA2AA', 586, 6), ('ATAAA', 352, 6), ('A9999', 160, 6), ('A8AAA', 438, 6), ('A6AAA', 401, 6), ('A5AAA', 562, 6), ('KAKKK', 682, 6), ('KKKKQ', 200, 6), ('KKK9K', 294, 6), ('KKTKK', 495, 6), ('KTTTT', 174, 6), ('K8KKK', 497, 6), ('K7777', 51, 6), ('K3KKK', 387, 6), ('QAQQQ', 591, 6), ('QQQKQ', 838, 6), ('QQQQT', 615, 6), ('QQQ6Q', 49, 6), ('QQJQQ', 245, 6), ('QQ7QQ', 598, 6), ('Q9999', 807, 6), ('Q6666', 470, 6), ('Q4QQQ', 305, 6), ('Q2QQQ', 459, 6), ('Q2222', 854, 6), ('JKKKK', 690, 6), ('JJJ8J', 836, 6), ('TATTT', 93, 6), ('TTTTJ', 934, 6), ('TTTT9', 256, 6), ('TTTT6', 504, 6), ('TT7TT', 304, 6), ('TT5TT', 61, 6), ('TT3TT', 805, 6), ('TT2TT', 852, 6), ('T8TTT', 962, 6), ('T4TTT', 268, 6), ('99K99', 973, 6), ('999J9', 903, 6), ('99599', 451, 6), ('99499', 759, 6), ('99399', 735, 6), ('97999', 659, 6), ('8T888', 574, 6), ('888J8', 261, 6), ('8888A', 97, 6), ('88868', 117, 6), ('88828', 632, 6), ('88588', 914, 6), ('83888', 194, 6), ('7Q777', 796, 6), ('777J7', 832, 6), ('77787', 536, 6), ('77772', 639, 6), ('77737', 913, 6), ('77677', 456, 6), ('77577', 327, 6), ('6A666', 764, 6), ('69999', 892, 6), ('666J6', 813, 6), ('66668', 440, 6), ('66667', 60, 6), ('66664', 147, 6), ('66636', 785, 6), ('5QQQQ', 597, 6), ('55855', 998, 6), ('55655', 520, 6), ('5555A', 286, 6), ('5555K', 800, 6), ('5555J', 176, 6), ('55557', 152, 6), ('52555', 62, 6), ('48888', 368, 6), ('44J44', 947, 6), ('444K4', 364, 6), ('44446', 319, 6), ('44442', 691, 6), ('43444', 471, 6), ('3Q333', 72, 6), ('35555', 862, 6), ('35333', 833, 6), ('333J3', 984, 6), ('33343', 624, 6), ('3333T', 17, 6), ('33338', 614, 6), ('32222', 210, 6), ('2J222', 579, 6), ('2T222', 679, 6), ('25222', 625, 6), ('22K22', 386, 6), ('222A2', 211, 6), ('22282', 733, 6), ('AAQQQ', 827, 5), ('AA3A3', 11, 5), ('AA222', 314, 5), ('AKAKA', 446, 5), ('A9A9A', 338, 5), ('A9A99', 644, 5), ('KAKAK', 480, 5), ('KKK55', 721, 5), ('KKJJJ', 961, 5), ('KKTTT', 518, 5), ('KJKKJ', 322, 5), ('K66KK', 980, 5), ('K2KK2', 521, 5), ('QKQKQ', 346, 5), ('QQTQT', 64, 5), ('QQ9Q9', 718, 5), ('QJJQQ', 165, 5), ('QTQTT', 918, 5), ('Q8Q8Q', 227, 5), ('Q7Q77', 905, 5), ('Q666Q', 402, 5), ('Q55Q5', 478, 5), ('Q3Q3Q', 187, 5), ('JAAJA', 680, 5), ('JAAJJ', 35, 5), ('JQJJQ', 297, 5), ('J99JJ', 580, 5), ('J99J9', 56, 5), ('J66JJ', 270, 5), ('J33J3', 549, 5), ('J222J', 325, 5), ('TKKTK', 608, 5), ('TJJTJ', 70, 5), ('TJJTT', 490, 5), ('TTT99', 729, 5), ('TTT55', 481, 5), ('TTT44', 622, 5), ('T7T7T', 145, 5), ('T7T77', 891, 5), ('T66TT', 215, 5), ('T222T', 58, 5), ('9KKK9', 37, 5), ('99898', 411, 5), ('99779', 86, 5), ('99333', 968, 5), ('92229', 226, 5), ('8AA88', 233, 5), ('8Q88Q', 928, 5), ('8JJ88', 791, 5), ('8J8JJ', 317, 5), ('8TT8T', 662, 5), ('88KKK', 195, 5), ('88KK8', 363, 5), ('88666', 761, 5), ('88558', 448, 5), ('84848', 208, 5), ('7A77A', 120, 5), ('77K7K', 900, 5), ('777JJ', 224, 5), ('77799', 886, 5), ('77575', 442, 5), ('76767', 871, 5), ('75755', 710, 5), ('74477', 799, 5), ('73337', 74, 5), ('6A66A', 804, 5), ('6QQQ6', 87, 5), ('6JJ66', 148, 5), ('6T66T', 388, 5), ('69696', 457, 5), ('66565', 95, 5), ('66333', 223, 5), ('65556', 340, 5), ('64646', 605, 5), ('62626', 212, 5), ('62622', 498, 5), ('5QQQ5', 433, 5), ('59995', 203, 5), ('58585', 196, 5), ('55K5K', 96, 5), ('555JJ', 589, 5), ('55544', 139, 5), ('52225', 15, 5), ('4T44T', 506, 5), ('44Q4Q', 129, 5), ('44JJ4', 406, 5), ('44949', 341, 5), ('42224', 911, 5), ('3AA33', 221, 5), ('3K3KK', 637, 5), ('3Q3Q3', 713, 5), ('38383', 612, 5), ('35553', 864, 5), ('33322', 783, 5), ('2A2AA', 312, 5), ('2QQ2Q', 336, 5), ('2JJJ2', 957, 5), ('2TT2T', 132, 5), ('27227', 650, 5), ('222QQ', 321, 5), ('AAA78', 496, 4), ('AA3JA', 705, 4), ('AA2AJ', 789, 4), ('AKKK8', 121, 4), ('AQ3AA', 46, 4), ('AJQAA', 744, 4), ('A8688', 542, 4), ('A7A9A', 678, 4), ('A72AA', 642, 4), ('A444J', 443, 4), ('A3343', 455, 4), ('KKKJ8', 257, 4), ('KKK7A', 723, 4), ('KKK78', 872, 4), ('KKK5J', 119, 4), ('KKTAK', 206, 4), ('KK68K', 648, 4), ('KK3KT', 755, 4), ('KQQJQ', 190, 4), ('KJKK4', 385, 4), ('KJK3K', 262, 4), ('K9989', 311, 4), ('K66J6', 199, 4), ('K5K8K', 248, 4), ('K4999', 144, 4), ('K2K9K', 369, 4), ('K22J2', 501, 4), ('QAAA2', 53, 4), ('QQAJQ', 769, 4), ('QQQTA', 663, 4), ('QQQ98', 146, 4), ('QQ9Q2', 417, 4), ('QQ4Q7', 991, 4), ('QJQQ8', 2, 4), ('QJJ9J', 904, 4), ('QJ5QQ', 750, 4), ('QTQQ8', 55, 4), ('Q8Q3Q', 803, 4), ('Q8882', 643, 4), ('Q5666', 660, 4), ('Q4Q5Q', 69, 4), ('JAAA8', 508, 4), ('JAAKA', 326, 4), ('JAKKK', 786, 4), ('JQQQT', 178, 4), ('JJJ34', 499, 4), ('JTKKK', 688, 4), ('J7773', 155, 4), ('J6668', 375, 4), ('J5558', 218, 4), ('J4424', 874, 4), ('J2A22', 876, 4), ('J2422', 828, 4), ('TQTJT', 81, 4), ('TJAAA', 280, 4), ('TTTAJ', 349, 4), ('TT9T2', 875, 4), ('T7222', 594, 4), ('T66Q6', 899, 4), ('T5KTT', 559, 4), ('T5T6T', 458, 4), ('T4434', 382, 4), ('T24TT', 996, 4), ('T222J', 45, 4), ('9AKAA', 604, 4), ('9AT99', 266, 4), ('9KKK7', 27, 4), ('9Q444', 359, 4), ('9J899', 990, 4), ('9TTT3', 283, 4), ('99Q96', 40, 4), ('99JA9', 461, 4), ('999TJ', 182, 4), ('97772', 192, 4), ('969J9', 18, 4), ('94TTT', 507, 4), ('94989', 128, 4), ('93929', 337, 4), ('92Q99', 73, 4), ('8JA88', 861, 4), ('89Q99', 367, 4), ('899A9', 485, 4), ('89388', 590, 4), ('88A8Q', 20, 4), ('889T8', 509, 4), ('88842', 541, 4), ('86656', 134, 4), ('85Q88', 288, 4), ('844J4', 285, 4), ('82T88', 12, 4), ('7K7J7', 370, 4), ('7TTT6', 877, 4), ('78J88', 138, 4), ('77Q78', 43, 4), ('77J27', 80, 4), ('777AQ', 975, 4), ('777KA', 771, 4), ('7775J', 653, 4), ('77472', 76, 4), ('76266', 760, 4), ('74494', 175, 4), ('72K22', 460, 4), ('6AJJJ', 378, 4), ('6KKKJ', 168, 4), ('6K664', 526, 4), ('6J665', 873, 4), ('6T696', 878, 4), ('67Q66', 837, 4), ('67646', 649, 4), ('66A63', 725, 4), ('66K96', 126, 4), ('66J96', 273, 4), ('66896', 982, 4), ('666AK', 602, 4), ('666QA', 814, 4), ('6656T', 151, 4), ('664Q6', 628, 4), ('6555K', 901, 4), ('65552', 213, 4), ('636J6', 452, 4), ('633J3', 560, 4), ('6222A', 197, 4), ('5AA6A', 806, 4), ('5KKKA', 265, 4), ('5K55J', 84, 4), ('5J554', 763, 4), ('5T55Q', 808, 4), ('5T333', 533, 4), ('59535', 547, 4), ('588K8', 376, 4), ('58886', 853, 4), ('58535', 394, 4), ('5666K', 83, 4), ('55JQ5', 551, 4), ('55J25', 620, 4), ('5595J', 714, 4), ('557K5', 466, 4), ('556A5', 617, 4), ('55578', 846, 4), ('5556T', 717, 4), ('54855', 749, 4), ('53KKK', 410, 4), ('4KKK6', 716, 4), ('4T944', 751, 4), ('4T4A4', 939, 4), ('49AAA', 906, 4), ('49484', 677, 4), ('48887', 668, 4), ('46AAA', 34, 4), ('45A55', 316, 4), ('44J47', 188, 4), ('4454Q', 421, 4), ('44547', 284, 4), ('444TQ', 358, 4), ('4443J', 428, 4), ('43555', 727, 4), ('43393', 546, 4), ('3A733', 965, 4), ('3A383', 698, 4), ('3Q343', 303, 4), ('3J335', 563, 4), ('34TTT', 445, 4), ('3444A', 955, 4), ('3433K', 565, 4), ('33KJ3', 173, 4), ('3373Q', 703, 4), ('2522Q', 993, 4), ('233K3', 831, 4), ('22K26', 75, 4), ('22T62', 888, 4), ('22792', 790, 4), ('226Q2', 606, 4), ('222T5', 797, 4), ('AAJQQ', 758, 3), ('AA787', 867, 3), ('AKA4K', 384, 3), ('AKA22', 667, 3), ('AQTAT', 524, 3), ('AJ88A', 780, 3), ('AT9T9', 592, 3), ('A788A', 702, 3), ('A6JA6', 652, 3), ('A6886', 179, 3), ('A5KKA', 500, 3), ('A5TAT', 400, 3), ('A4A49', 475, 3), ('A3535', 938, 3), ('KAJKA', 333, 3), ('KK373', 657, 3), ('KK22J', 271, 3), ('KQK55', 768, 3), ('KJQQK', 293, 3), ('KJJ77', 332, 3), ('KTKT3', 529, 3), ('KT9K9', 616, 3), ('K8JKJ', 930, 3), ('K5KT5', 738, 3), ('K55K2', 106, 3), ('K35K5', 734, 3), ('K3366', 731, 3), ('QAQ33', 287, 3), ('QK7KQ', 772, 3), ('QQAA9', 834, 3), ('QQJJK', 885, 3), ('QQJ88', 274, 3), ('QQT88', 38, 3), ('QJTQJ', 985, 3), ('QTQTA', 243, 3), ('QTT55', 219, 3), ('Q88AQ', 986, 3), ('Q79Q7', 474, 3), ('Q5Q33', 767, 3), ('Q5JQ5', 840, 3), ('Q44AA', 408, 3), ('Q3QKK', 631, 3), ('Q332Q', 276, 3), ('Q2Q55', 756, 3), ('Q2424', 472, 3), ('JK9J9', 405, 3), ('JJK7K', 651, 3), ('JJ8QQ', 42, 3), ('JTJTA', 123, 3), ('J9Q9Q', 701, 3), ('J8AJA', 136, 3), ('J8866', 512, 3), ('J7J79', 570, 3), ('J7T7T', 8, 3), ('J7887', 707, 3), ('J7755', 449, 3), ('J69J9', 908, 3), ('J64J4', 917, 3), ('J6446', 969, 3), ('J62J6', 696, 3), ('J4J4K', 740, 3), ('J2J99', 519, 3), ('J2J24', 582, 3), ('TAJAT', 85, 3), ('TKK7T', 945, 3), ('TTJ99', 279, 3), ('TT8J8', 897, 3), ('TT5A5', 774, 3), ('TT344', 207, 3), ('T85T8', 988, 3), ('T7T75', 28, 3), ('T5T99', 166, 3), ('T3T88', 252, 3), ('T28T2', 486, 3), ('T225T', 944, 3), ('9KQQ9', 685, 3), ('9Q9QA', 981, 3), ('9J9AA', 699, 3), ('99A88', 573, 3), ('99A55', 658, 3), ('99K7K', 801, 3), ('9977K', 10, 3), ('9966A', 887, 3), ('995J5', 779, 3), ('97788', 820, 3), ('955TT', 430, 3), ('95393', 292, 3), ('93963', 857, 3), ('9339J', 99, 3), ('92289', 57, 3), ('8KKQ8', 715, 3), ('8Q55Q', 743, 3), ('88AA5', 638, 3), ('88A3A', 979, 3), ('8822K', 610, 3), ('8787Q', 847, 3), ('87558', 951, 3), ('866AA', 601, 3), ('85685', 291, 3), ('84KK8', 821, 3), ('84548', 230, 3), ('82A8A', 77, 3), ('7KK87', 171, 3), ('7K7AK', 477, 3), ('7QQJ7', 31, 3), ('79Q9Q', 766, 3), ('77JTJ', 921, 3), ('77TTK', 161, 3), ('76565', 870, 3), ('75KK7', 172, 3), ('75975', 720, 3), ('73K73', 676, 3), ('73QQ7', 879, 3), ('73232', 916, 3), ('72882', 822, 3), ('6KA6K', 383, 3), ('6KJK6', 425, 3), ('6K6TK', 540, 3), ('6K67K', 334, 3), ('6K677', 107, 3), ('6Q26Q', 765, 3), ('6Q22Q', 258, 3), ('6JQ6Q', 177, 3), ('69639', 360, 3), ('67876', 419, 3), ('65J65', 272, 3), ('64969', 141, 3), ('64633', 548, 3), ('5Q757', 105, 3), ('585TT', 52, 3), ('535J3', 686, 3), ('53322', 788, 3), ('4KT4T', 712, 3), ('4K48K', 823, 3), ('4TT66', 125, 3), ('499KK', 63, 3), ('49749', 794, 3), ('4949A', 695, 3), ('48A8A', 587, 3), ('47272', 154, 3), ('46QQ6', 254, 3), ('45534', 112, 3), ('44KJK', 726, 3), ('44TQQ', 825, 3), ('449J9', 709, 3), ('44766', 342, 3), ('446A6', 851, 3), ('44595', 71, 3), ('43KK3', 948, 3), ('43423', 809, 3), ('3KTT3', 910, 3), ('3J8J3', 949, 3), ('3T6T6', 987, 3), ('3T344', 850, 3), ('3993A', 391, 3), ('38AA3', 956, 3), ('344QQ', 683, 3), ('33QTQ', 201, 3), ('33J88', 22, 3), ('336J6', 896, 3), ('2K44K', 843, 3), ('2JQQ2', 510, 3), ('29962', 997, 3), ('28298', 356, 3), ('26K26', 344, 3), ('26T26', 522, 3), ('266TT', 992, 3), ('25AA2', 752, 3), ('22A8A', 584, 3), ('22Q8Q', 810, 3), ('22363', 502, 3), ('AAT3K', 249, 2), ('AA5T3', 534, 2), ('AQ9A4', 865, 2), ('ATJKT', 299, 2), ('AT992', 588, 2), ('AT399', 983, 2), ('A9942', 54, 2), ('A93JA', 214, 2), ('A8K7A', 884, 2), ('A88Q7', 6, 2), ('A8755', 666, 2), ('A79QQ', 532, 2), ('A6A3J', 880, 2), ('A6282', 328, 2), ('A5A23', 675, 2), ('A5538', 404, 2), ('A46K4', 371, 2), ('A2KJJ', 922, 2), ('A2JAQ', 309, 2), ('A236A', 282, 2), ('KAJ4K', 330, 2), ('KA889', 593, 2), ('KKAJT', 940, 2), ('KKJ98', 661, 2), ('KKJ54', 849, 2), ('KK6J8', 959, 2), ('KK59Q', 538, 2), ('KJKQ7', 960, 2), ('KJQ9Q', 835, 2), ('KJ3KQ', 98, 2), ('K9QJ9', 380, 2), ('K8AK3', 415, 2), ('K7847', 180, 2), ('K5QT5', 634, 2), ('K2K53', 426, 2), ('QA3KK', 298, 2), ('QKAA9', 863, 2), ('QQJ56', 247, 2), ('QQ879', 90, 2), ('QJ995', 422, 2), ('QJ2Q6', 647, 2), ('QJ29J', 528, 2), ('QTJJA', 995, 2), ('QTTA8', 693, 2), ('QT77K', 883, 2), ('Q73A7', 747, 2), ('Q693Q', 942, 2), ('Q4Q6A', 976, 2), ('Q4584', 381, 2), ('Q422T', 881, 2), ('JAA5T', 423, 2), ('JAKJ7', 687, 2), ('JA9J5', 636, 2), ('JK8T8', 841, 2), ('JQ966', 389, 2), ('JJK67', 115, 2), ('JJ56K', 556, 2), ('JJ296', 762, 2), ('JTAA8', 576, 2), ('JTJ39', 770, 2), ('JTTK8', 453, 2), ('JT664', 306, 2), ('JT266', 977, 2), ('J977A', 467, 2), ('J944K', 468, 2), ('J8847', 619, 2), ('J874J', 792, 2), ('J844A', 773, 2), ('J7QJK', 829, 2), ('J7876', 493, 2), ('J77KT', 191, 2), ('J6Q7J', 444, 2), ('J68J5', 730, 2), ('J65AA', 193, 2), ('J5KQ5', 994, 2), ('J5J74', 641, 2), ('J5589', 366, 2), ('J5224', 599, 2), ('J4QKJ', 645, 2), ('J4262', 795, 2), ('J3Q38', 301, 2), ('J36T6', 424, 2), ('J332A', 413, 2), ('J23T2', 374, 2), ('TA33K', 454, 2), ('TKQAK', 550, 2), ('TK228', 577, 2), ('TQ6Q2', 416, 2), ('TJ224', 259, 2), ('TTK2A', 537, 2), ('TT9JQ', 856, 2), ('T98Q8', 473, 2), ('T8QT6', 505, 2), ('T8664', 246, 2), ('T7857', 465, 2), ('T774K', 48, 2), ('T7699', 630, 2), ('T5JTQ', 431, 2), ('T535K', 585, 2), ('T4JT9', 516, 2), ('T42JT', 700, 2), ('9K69T', 66, 2), ('9Q8TQ', 122, 2), ('9JJK2', 564, 2), ('9J9AQ', 561, 2), ('9J244', 882, 2), ('99J53', 205, 2), ('993J4', 59, 2), ('98AA4', 343, 2), ('97AJ9', 692, 2), ('977TJ', 842, 2), ('97343', 724, 2), ('955J3', 420, 2), ('94355', 434, 2), ('93QTQ', 251, 2), ('93J43', 236, 2), ('93577', 656, 2), ('92A66', 1000, 2), ('92J2T', 941, 2), ('9297A', 798, 2), ('8AA32', 324, 2), ('8A4QA', 525, 2), ('8A2AJ', 748, 2), ('8KK5J', 277, 2), ('8Q2A2', 403, 2), ('8JQQT', 163, 2), ('8J696', 517, 2), ('8J22K', 111, 2), ('8TA7T', 281, 2), ('8T9J8', 578, 2), ('89K87', 967, 2), ('88A7J', 830, 2), ('88Q42', 757, 2), ('883J2', 94, 2), ('8837K', 999, 2), ('87QQ2', 557, 2), ('87J58', 310, 2), ('86TTK', 664, 2), ('85A33', 635, 2), ('85QQ6', 185, 2), ('859JJ', 933, 2), ('84982', 108, 2), ('848JK', 377, 2), ('83QJ8', 609, 2), ('83Q34', 209, 2), ('83523', 67, 2), ('828T5', 439, 2), ('82434', 819, 2), ('7A499', 354, 2), ('7KJTT', 393, 2), ('7Q497', 390, 2), ('7Q288', 815, 2), ('7J922', 596, 2), ('7J478', 92, 2), ('7975J', 398, 2), ('787TK', 932, 2), ('78267', 202, 2), ('779TK', 931, 2), ('7753K', 952, 2), ('76QQJ', 89, 2), ('76J55', 362, 2), ('74T57', 514, 2), ('73AT3', 671, 2), ('73Q87', 234, 2), ('73JKJ', 427, 2), ('7367Q', 335, 2), ('72T29', 575, 2), ('726J7', 719, 2), ('6A4Q4', 492, 2), ('6KJTT', 784, 2), ('6QJ8Q', 289, 2), ('6QJ22', 633, 2), ('6Q8A8', 539, 2), ('6JK2J', 149, 2), ('6JT4T', 372, 2), ('6J692', 826, 2), ('6TAA3', 242, 2), ('6T6A9', 623, 2), ('69A9K', 937, 2), ('68A9A', 429, 2), ('68K6A', 581, 2), ('68744', 920, 2), ('67T62', 483, 2), ('66QJ5', 776, 2), ('66Q34', 290, 2), ('667J4', 732, 2), ('65KK9', 958, 2), ('65Q5K', 607, 2), ('648JJ', 463, 2), ('64697', 156, 2), ('63943', 399, 2), ('626J8', 30, 2), ('622TJ', 142, 2), ('5K859', 943, 2), ('5K332', 923, 2), ('5TQ5J', 697, 2), ('5T4KT', 133, 2), ('59857', 754, 2), ('54Q94', 858, 2), ('54J34', 824, 2), ('5357J', 737, 2), ('52JA5', 39, 2), ('52829', 295, 2), ('525KA', 198, 2), ('525TJ', 278, 2), ('5242T', 708, 2), ('4A9J4', 350, 2), ('4A94Q', 113, 2), ('4Q6J6', 124, 2), ('4Q4J6', 572, 2), ('4J969', 889, 2), ('4929Q', 183, 2), ('48T9T', 848, 2), ('4799J', 924, 2), ('467J7', 673, 2), ('45T4J', 621, 2), ('44T2J', 131, 2), ('447JT', 373, 2), ('44258', 907, 2), ('43Q7Q', 736, 2), ('43556', 16, 2), ('42K9K', 479, 2), ('42Q54', 684, 2), ('3AKJK', 32, 2), ('3AQQK', 275, 2), ('3A73J', 307, 2), ('3K6KJ', 527, 2), ('3Q3J5', 313, 2), ('3T32K', 167, 2), ('39A92', 357, 2), ('38Q89', 627, 2), ('3863K', 787, 2), ('383QT', 583, 2), ('3837K', 674, 2), ('37T7Q', 523, 2), ('36Q26', 728, 2), ('35J6J', 745, 2), ('345J3', 82, 2), ('33KJ7', 972, 2), ('33QT7', 5, 2), ('33J64', 450, 2), ('338T6', 447, 2), ('32T3J', 893, 2), ('2QKJ2', 704, 2), ('2QJ66', 669, 2), ('2QJ2A', 253, 2), ('2JQJ4', 927, 2), ('2JJ64', 91, 2), ('2T3T6', 25, 2), ('2T26K', 866, 2), ('29J52', 515, 2), ('288QA', 966, 2), ('28768', 329, 2), ('27J88', 974, 2), ('27J42', 150, 2), ('238A3', 170, 2), ('2373Q', 603, 2), ('2339T', 153, 2), ('22894', 665, 2), ('227AJ', 189, 2), ('22349', 954, 2), ('AK4J9', 926, 1), ('AK3T7', 79, 1), ('AJ792', 351, 1), ('AJ529', 418, 1), ('A9852', 225, 1), ('A93K8', 23, 1), ('A8T96', 365, 1), ('A7KJ3', 323, 1), ('A6934', 232, 1), ('A675K', 204, 1), ('A64K8', 929, 1), ('A584T', 558, 1), ('A57Q4', 839, 1), ('A486T', 33, 1), ('A42K8', 777, 1), ('A42K3', 315, 1), ('A38K6', 159, 1), ('A3829', 14, 1), ('KAQ97', 102, 1), ('KJ4Q8', 395, 1), ('KT9J2', 348, 1), ('KT647', 244, 1), ('K96A4', 267, 1), ('K8J49', 220, 1), ('K839J', 217, 1), ('K6T78', 890, 1), ('K5T7A', 412, 1), ('K58QA', 919, 1), ('K52T7', 47, 1), ('K386T', 978, 1), ('K2T3A', 318, 1), ('K24Q9', 816, 1), ('K24TQ', 19, 1), ('QA8J5', 545, 1), ('QK456', 308, 1), ('Q9J5K', 567, 1), ('Q9J43', 379, 1), ('Q7A8K', 1, 1), ('Q7A3T', 868, 1), ('Q7K25', 530, 1), ('Q7956', 186, 1), ('Q63K8', 741, 1), ('Q6295', 722, 1), ('Q5T9K', 618, 1), ('Q3J6T', 554, 1), ('Q28TK', 946, 1), ('Q2895', 65, 1), ('JA8KT', 88, 1), ('JK98Q', 811, 1), ('JK47A', 817, 1), ('JK259', 859, 1), ('JQ7K3', 222, 1), ('JT5K9', 181, 1), ('J86T7', 140, 1), ('J7629', 320, 1), ('J734Q', 302, 1), ('J64T5', 646, 1), ('J57Q8', 571, 1), ('J568K', 511, 1), ('J54KT', 116, 1), ('J4Q76', 101, 1), ('J4628', 44, 1), ('J4625', 640, 1), ('J2387', 742, 1), ('TAQ67', 103, 1), ('TA756', 782, 1), ('TK7A2', 239, 1), ('TK68J', 29, 1), ('TQJ7A', 110, 1), ('TQ328', 397, 1), ('TJ8A5', 552, 1), ('T9Q73', 595, 1), ('T987K', 778, 1), ('T934K', 130, 1), ('T9325', 971, 1), ('T89AQ', 235, 1), ('T85QJ', 36, 1), ('T7JA8', 250, 1), ('T58K2', 118, 1), ('T549J', 7, 1), ('T4J6A', 41, 1), ('T4672', 476, 1), ('T36AQ', 441, 1), ('9AK4Q', 9, 1), ('9AK2J', 600, 1), ('9A37J', 355, 1), ('9QA72', 694, 1), ('9QJ52', 50, 1), ('9Q563', 845, 1), ('9J42A', 670, 1), ('9T84J', 912, 1), ('98T35', 347, 1), ('986T5', 407, 1), ('97A34', 953, 1), ('96A47', 925, 1), ('9425A', 414, 1), ('935T6', 689, 1), ('8AJ37', 746, 1), ('8Q47T', 855, 1), ('8J496', 531, 1), ('8T9A3', 869, 1), ('8T674', 269, 1), ('8946K', 13, 1), ('86T5A', 436, 1), ('865J3', 553, 1), ('853K9', 568, 1), ('85249', 162, 1), ('8473Q', 964, 1), ('836Q9', 629, 1), ('82637', 487, 1), ('7A59J', 296, 1), ('7A326', 137, 1), ('7QJ56', 543, 1), ('7J695', 935, 1), ('7TQ2J', 228, 1), ('79A83', 898, 1), ('79823', 936, 1), ('78T4K', 753, 1), ('78526', 489, 1), ('783JQ', 902, 1), ('782AJ', 361, 1), ('76JA2', 104, 1), ('74A23', 482, 1), ('73QJ9', 396, 1), ('73429', 491, 1), ('6AK5Q', 484, 1), ('6A2JQ', 535, 1), ('6KA95', 802, 1), ('6K4J5', 100, 1), ('6QA29', 950, 1), ('68K54', 909, 1), ('67AJQ', 135, 1), ('67KQJ', 469, 1), ('67K5T', 26, 1), ('65K74', 626, 1), ('65J3A', 339, 1), ('6572K', 255, 1), ('64J7A', 345, 1), ('64725', 78, 1), ('642TJ', 781, 1), ('63AK2', 432, 1), ('63JQ4', 963, 1), ('62JK8', 68, 1), ('5AQ28', 435, 1), ('5AJ7T', 164, 1), ('5K643', 237, 1), ('5TA42', 353, 1), ('5T38K', 860, 1), ('58K27', 818, 1), ('58T32', 238, 1), ('56JKQ', 300, 1), ('56748', 681, 1), ('5468J', 812, 1), ('534A9', 409, 1), ('52AQT', 672, 1), ('4AK62', 157, 1), ('4K2A9', 240, 1), ('4Q6T8', 331, 1), ('4J538', 437, 1), ('4TQ82', 114, 1), ('4T7K2', 241, 1), ('49QTK', 711, 1), ('49TA5', 109, 1), ('47AKQ', 231, 1), ('47A82', 260, 1), ('46J59', 844, 1), ('4562Q', 462, 1), ('43JQ8', 613, 1), ('438KQ', 143, 1), ('42QAT', 488, 1), ('42Q7J', 264, 1), ('3AKQJ', 655, 1), ('3AQ59', 4, 1), ('3A9JK', 127, 1), ('3QAJ8', 989, 1), ('3Q267', 706, 1), ('3JQ2K', 544, 1), ('3TA5Q', 611, 1), ('3T4K2', 3, 1), ('39548', 184, 1), ('39475', 775, 1), ('38467', 970, 1), ('3768T', 793, 1), ('36T97', 216, 1), ('36T74', 392, 1), ('345JQ', 894, 1), ('324J8', 569, 1), ('2AQ76', 21, 1), ('2AT68', 24, 1), ('2AT5J', 263, 1), ('2A475', 513, 1), ('2A3K7', 229, 1), ('2A3J6', 169, 1), ('2Q8JK', 654, 1), ('2JKA8', 739, 1), ('297K3', 915, 1), ('296Q7', 464, 1), ('263K5', 566, 1), ('25QTJ', 555, 1), ('2586Q', 494, 1), ('23Q6T', 895, 1)]\n",
      "251545216\n"
     ]
    }
   ],
   "source": [
    "from collections import defaultdict\n",
    "\n",
    "file_name = \"day7.txt\"\n",
    "\n",
    "values = {\"A\": 14, \"K\": 13, \"Q\": 12, \"J\": 11, \"T\": 10}\n",
    "\n",
    "def get_value(c):\n",
    "    if c in values:\n",
    "        return values[c]\n",
    "    else:\n",
    "        return int(c)\n",
    "\n",
    "def get_type(values):\n",
    "    if 5 in values:\n",
    "        return 7\n",
    "    elif 4 in values:\n",
    "        return 6\n",
    "    elif 3 in values and 2 in values:\n",
    "        return 5\n",
    "    elif 3 in values:\n",
    "        return 4\n",
    "    elif 2 in values and len(values) == 3:\n",
    "        return 3\n",
    "    elif 2 in values:\n",
    "        return 2\n",
    "    else:\n",
    "        return 1\n",
    "\n",
    "# Get the second order for the hands\n",
    "def is_stronger(tup1, tup2):\n",
    "    if tup1[2] > tup2[2]:\n",
    "        return True\n",
    "    elif tup1[2] < tup2[2]:\n",
    "        return False\n",
    "    \n",
    "    hand1 = tup1[0]\n",
    "    hand2 = tup2[0]\n",
    "    \n",
    "    for i in range(len(hand1)):\n",
    "        if get_value(hand1[i]) > get_value(hand2[i]):\n",
    "            return True\n",
    "        elif get_value(hand1[i]) < get_value(hand2[i]):\n",
    "            return False\n",
    "\n",
    "with open(file_name) as file:\n",
    "    rows = [row.strip() for row in file.readlines()]\n",
    "    acc = []\n",
    "    \n",
    "    for row in rows:\n",
    "        spl = row.split(\" \")\n",
    "        hand = spl[0]\n",
    "        bid = int(spl[1])\n",
    "        acc.append((hand, bid))\n",
    "\n",
    "    best_hands = []\n",
    "    for tup in acc:\n",
    "        d = defaultdict(int)\n",
    "        for card in tup[0]:\n",
    "            d[card] += 1\n",
    "        type = get_type(d.values())\n",
    "        output = (tup[0], tup[1], type)\n",
    "        \n",
    "        for i in range(len(best_hands)):\n",
    "            if is_stronger(output, best_hands[i]):\n",
    "                best_hands.insert(i, output)\n",
    "                break\n",
    "        \n",
    "        if output not in best_hands:\n",
    "            best_hands.append(output)\n",
    "\n",
    "    total_winnings = 0\n",
    "    \n",
    "    for i in range (len(best_hands)):\n",
    "        rank = len(best_hands) - i\n",
    "        total_winnings += (best_hands[i][1] * rank)\n",
    "    print(best_hands)\n",
    "    print(total_winnings)"
   ]
  },
  {
   "cell_type": "markdown",
   "id": "0edc94ab",
   "metadata": {},
   "source": [
    "# Day 7 Part 2\n",
    "To make things a little more interesting, the Elf introduces one additional rule. Now, J cards are jokers - wildcards that can act like whatever card would make the hand the strongest type possible.\n",
    "\n",
    "To balance this, J cards are now the weakest individual cards, weaker even than 2. The other cards stay in the same order: A, K, Q, T, 9, 8, 7, 6, 5, 4, 3, 2, J.\n",
    "\n",
    "J cards can pretend to be whatever card is best for the purpose of determining hand type; for example, QJJQ2 is now considered four of a kind. However, for the purpose of breaking ties between two hands of the same type, J is always treated as J, not the card it's pretending to be: JKKK2 is weaker than QQQQ2 because J is weaker than Q."
   ]
  },
  {
   "cell_type": "code",
   "execution_count": 45,
   "id": "4c9ed6e8",
   "metadata": {},
   "outputs": [
    {
     "name": "stdout",
     "output_type": "stream",
     "text": [
      "250384185\n"
     ]
    }
   ],
   "source": [
    "from collections import defaultdict\n",
    "\n",
    "file_name = \"day7.txt\"\n",
    "\n",
    "values = {\"A\": 14, \"K\": 13, \"Q\": 12, \"J\": -1, \"T\": 10}\n",
    "\n",
    "def get_value(c):\n",
    "    if c in values:\n",
    "        return values[c]\n",
    "    else:\n",
    "        return int(c)\n",
    "\n",
    "def get_type(hand):\n",
    "    d = defaultdict(int)\n",
    "    for card in hand:\n",
    "        d[card] += 1\n",
    "    \n",
    "    values = d.values()\n",
    "    \n",
    "    value = 0\n",
    "    \n",
    "    if 5 in values: #five of a kind\n",
    "        return 7\n",
    "    elif 4 in values: #four of a kind\n",
    "        if \"J\" in d:\n",
    "            return 7\n",
    "        else:\n",
    "            return 6\n",
    "    elif 3 in values and 2 in values: #full house\n",
    "        if \"J\" in d:\n",
    "            return 7\n",
    "        else:\n",
    "            return 5\n",
    "    elif 3 in values: #three of a kind\n",
    "        if \"J\" in d:\n",
    "            return 6\n",
    "        else:\n",
    "            return 4\n",
    "    elif 2 in values and len(values) == 3: #two pairs\n",
    "        if d[\"J\"] == 2:\n",
    "            return 6\n",
    "        elif d[\"J\"] == 1:\n",
    "            return 5\n",
    "        else:\n",
    "            return 3\n",
    "    elif 2 in values: #one pair\n",
    "        if \"J\" in d:\n",
    "            return 4\n",
    "        else:\n",
    "            return 2\n",
    "    else: # high card\n",
    "        if \"J\" in d:\n",
    "            return 2\n",
    "        else:\n",
    "            return 1\n",
    "        # if five of a kind, do nothing\n",
    "        # if four of a kind, \n",
    "            #if one J, then it is five of a kind\n",
    "        # if full house\n",
    "            # if there is J, then it is five of a kind\n",
    "        # if three of a kind\n",
    "            # if there is at least 1 J then it is a four of a kind\n",
    "        # if two pair\n",
    "            #if there are 2 J's, then it is a four of a kind\n",
    "            # if there is 1 J, then it is a full house\n",
    "        # if one pair\n",
    "            #if there are J's, then it is a three of a kind\n",
    "        # if high card\n",
    "            #if there is a J, then it is a one pair\n",
    "\n",
    "# Get the second order for the hands\n",
    "def is_stronger(tup1, tup2):\n",
    "    if tup1[2] > tup2[2]:\n",
    "        return True\n",
    "    elif tup1[2] < tup2[2]:\n",
    "        return False\n",
    "    \n",
    "    hand1 = tup1[0]\n",
    "    hand2 = tup2[0]\n",
    "    \n",
    "    for i in range(len(hand1)):\n",
    "        if get_value(hand1[i]) > get_value(hand2[i]):\n",
    "            return True\n",
    "        elif get_value(hand1[i]) < get_value(hand2[i]):\n",
    "            return False\n",
    "\n",
    "with open(file_name) as file:\n",
    "    rows = [row.strip() for row in file.readlines()]\n",
    "    acc = []\n",
    "    \n",
    "    for row in rows:\n",
    "        spl = row.split(\" \")\n",
    "        hand = spl[0]\n",
    "        bid = int(spl[1])\n",
    "        acc.append((hand, bid))\n",
    "\n",
    "    best_hands = []\n",
    "    for tup in acc:\n",
    "        type = get_type(tup[0])\n",
    "        output = (tup[0], tup[1], type)\n",
    "        \n",
    "        for i in range(len(best_hands)):\n",
    "            if is_stronger(output, best_hands[i]):\n",
    "                best_hands.insert(i, output)\n",
    "                break\n",
    "        \n",
    "        if output not in best_hands:\n",
    "            best_hands.append(output)\n",
    "\n",
    "    total_winnings = 0\n",
    "    \n",
    "    for i in range (len(best_hands)):\n",
    "        rank = len(best_hands) - i\n",
    "        total_winnings += (best_hands[i][1] * rank)\n",
    "    print(total_winnings)"
   ]
  }
 ],
 "metadata": {
  "kernelspec": {
   "display_name": "Python 3 (ipykernel)",
   "language": "python",
   "name": "python3"
  },
  "language_info": {
   "codemirror_mode": {
    "name": "ipython",
    "version": 3
   },
   "file_extension": ".py",
   "mimetype": "text/x-python",
   "name": "python",
   "nbconvert_exporter": "python",
   "pygments_lexer": "ipython3",
   "version": "3.11.4"
  }
 },
 "nbformat": 4,
 "nbformat_minor": 5
}
