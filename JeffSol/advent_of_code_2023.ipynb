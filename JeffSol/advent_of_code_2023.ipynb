{
 "cells": [
  {
   "cell_type": "markdown",
   "id": "50f6922a",
   "metadata": {},
   "source": [
    "# Day 1 Part 1\n",
    "The newly-improved calibration document consists of lines of text; each line originally contained a specific calibration value that the Elves now need to recover. On each line, the calibration value can be found by combining the first digit and the last digit (in that order) to form a single two-digit number."
   ]
  },
  {
   "cell_type": "code",
   "execution_count": 3,
   "id": "fc087222",
   "metadata": {},
   "outputs": [
    {
     "name": "stdout",
     "output_type": "stream",
     "text": [
      "53334\n"
     ]
    }
   ],
   "source": [
    "file_name = \"day1.txt\"\n",
    "with open(file_name) as file:\n",
    "    nums = []\n",
    "    for row in file:\n",
    "        s = row.strip()\n",
    "        acc = []\n",
    "        for i in s:\n",
    "            if i.isdigit():\n",
    "                acc.append(i)\n",
    "        if (len(acc) < 1):\n",
    "            nums.append(int(acc[0] * 2))\n",
    "        else:\n",
    "            nums.append(int(acc[0] + acc[-1]))\n",
    "    \n",
    "    print(sum(nums))"
   ]
  },
  {
   "cell_type": "markdown",
   "id": "6a192455",
   "metadata": {},
   "source": [
    "# Day 1 Part 2\n",
    "Your calculation isn't quite right. It looks like some of the digits are actually spelled out with letters: one, two, three, four, five, six, seven, eight, and nine also count as valid \"digits\"."
   ]
  },
  {
   "cell_type": "code",
   "execution_count": 28,
   "id": "2c037ec1",
   "metadata": {},
   "outputs": [
    {
     "name": "stdout",
     "output_type": "stream",
     "text": [
      "52834\n"
     ]
    }
   ],
   "source": [
    "def get_possible_digits(s):\n",
    "    digits = {\"one\": \"1\", \"two\": \"2\", \"three\": \"3\", \"four\": \"4\", \"five\": \"5\", \"six\": \"6\", \"seven\": \"7\", \"eight\": \"8\", \"nine\": \"9\"}\n",
    "    acc = []\n",
    "    for i in range(len(s)):\n",
    "        if s[i].isdigit():\n",
    "            acc.append((s[i]))\n",
    "        else:\n",
    "            for j in range(i, len(s)):\n",
    "                digit = s[i:j+1]\n",
    "\n",
    "                if digit in digits:\n",
    "                    acc.append(digits[digit])\n",
    "    return acc\n",
    "\n",
    "get_possible_digits(\"four9one\")\n",
    "\n",
    "file_name = \"day1.txt\"\n",
    "with open(file_name) as file:\n",
    "    nums = []\n",
    "    for row in file:\n",
    "        s = row.strip()\n",
    "        acc = get_possible_digits(s)\n",
    "        \n",
    "        if len(acc) < 2:\n",
    "            nums.append(int(acc[0] * 2))\n",
    "        else:\n",
    "            nums.append(int(acc[0] + acc[-1]))\n",
    "    \n",
    "    print(sum(nums))"
   ]
  },
  {
   "cell_type": "code",
   "execution_count": null,
   "id": "f21826f5",
   "metadata": {},
   "outputs": [],
   "source": []
  }
 ],
 "metadata": {
  "kernelspec": {
   "display_name": "Python 3 (ipykernel)",
   "language": "python",
   "name": "python3"
  },
  "language_info": {
   "codemirror_mode": {
    "name": "ipython",
    "version": 3
   },
   "file_extension": ".py",
   "mimetype": "text/x-python",
   "name": "python",
   "nbconvert_exporter": "python",
   "pygments_lexer": "ipython3",
   "version": "3.11.4"
  }
 },
 "nbformat": 4,
 "nbformat_minor": 5
}
