{
 "cells": [
  {
   "cell_type": "markdown",
   "id": "50f6922a",
   "metadata": {},
   "source": [
    "# Day 1 Part 1\n",
    "The newly-improved calibration document consists of lines of text; each line originally contained a specific calibration value that the Elves now need to recover. On each line, the calibration value can be found by combining the first digit and the last digit (in that order) to form a single two-digit number."
   ]
  },
  {
   "cell_type": "code",
   "execution_count": 3,
   "id": "fc087222",
   "metadata": {},
   "outputs": [
    {
     "name": "stdout",
     "output_type": "stream",
     "text": [
      "53334\n"
     ]
    }
   ],
   "source": [
    "file_name = \"day1.txt\"\n",
    "with open(file_name) as file:\n",
    "    nums = []\n",
    "    for row in file:\n",
    "        s = row.strip()\n",
    "        acc = []\n",
    "        for i in s:\n",
    "            if i.isdigit():\n",
    "                acc.append(i)\n",
    "        if (len(acc) < 1):\n",
    "            nums.append(int(acc[0] * 2))\n",
    "        else:\n",
    "            nums.append(int(acc[0] + acc[-1]))\n",
    "    \n",
    "    print(sum(nums))"
   ]
  },
  {
   "cell_type": "markdown",
   "id": "6a192455",
   "metadata": {},
   "source": [
    "# Day 1 Part 2\n",
    "Your calculation isn't quite right. It looks like some of the digits are actually spelled out with letters: one, two, three, four, five, six, seven, eight, and nine also count as valid \"digits\"."
   ]
  },
  {
   "cell_type": "code",
   "execution_count": 28,
   "id": "2c037ec1",
   "metadata": {},
   "outputs": [
    {
     "name": "stdout",
     "output_type": "stream",
     "text": [
      "52834\n"
     ]
    }
   ],
   "source": [
    "def get_possible_digits(s):\n",
    "    digits = {\"one\": \"1\", \"two\": \"2\", \"three\": \"3\", \"four\": \"4\", \"five\": \"5\", \"six\": \"6\", \"seven\": \"7\", \"eight\": \"8\", \"nine\": \"9\"}\n",
    "    acc = []\n",
    "    for i in range(len(s)):\n",
    "        if s[i].isdigit():\n",
    "            acc.append((s[i]))\n",
    "        else:\n",
    "            for j in range(i, len(s)):\n",
    "                digit = s[i:j+1]\n",
    "\n",
    "                if digit in digits:\n",
    "                    acc.append(digits[digit])\n",
    "    return acc\n",
    "\n",
    "get_possible_digits(\"four9one\")\n",
    "\n",
    "file_name = \"day1.txt\"\n",
    "with open(file_name) as file:\n",
    "    nums = []\n",
    "    for row in file:\n",
    "        s = row.strip()\n",
    "        acc = get_possible_digits(s)\n",
    "        \n",
    "        if len(acc) < 2:\n",
    "            nums.append(int(acc[0] * 2))\n",
    "        else:\n",
    "            nums.append(int(acc[0] + acc[-1]))\n",
    "    \n",
    "    print(sum(nums))"
   ]
  },
  {
   "cell_type": "markdown",
   "id": "aee7847d",
   "metadata": {},
   "source": [
    "# Day 2 Part 1\n",
    "Determine which games would have been possible if the bag had been loaded with only 12 red cubes, 13 green cubes, and 14 blue cubes. What is the sum of the IDs of those games?"
   ]
  },
  {
   "cell_type": "code",
   "execution_count": 12,
   "id": "051a2377",
   "metadata": {},
   "outputs": [
    {
     "name": "stdout",
     "output_type": "stream",
     "text": [
      "2913\n"
     ]
    }
   ],
   "source": [
    "file_name = \"day2.txt\"\n",
    "\n",
    "d = {\"red\": 12, \"green\": 13, \"blue\": 14}\n",
    "\n",
    "with open(file_name) as file:\n",
    "    acc = []\n",
    "    for row in file:\n",
    "        s = row.strip()\n",
    "        sets = s.split(\": \")[1].split(\"; \")\n",
    "        impossible = False\n",
    "        for set in sets:\n",
    "            if impossible:\n",
    "                break\n",
    "                \n",
    "            draws = set.split(\", \")\n",
    "            for draw in draws:\n",
    "                amt = int(draw.split(\" \")[0])\n",
    "                color = draw.split(\" \")[1]\n",
    "                if amt > d[color]:\n",
    "                    impossible = True\n",
    "                    break\n",
    "        if not impossible:\n",
    "            acc.append(int(s.split(\": \")[0].split(\" \")[1]))\n",
    "    print(sum(acc))"
   ]
  },
  {
   "cell_type": "markdown",
   "id": "073ff97b",
   "metadata": {},
   "source": [
    "# Day 2 Part 2\n",
    "As you continue your walk, the Elf poses a second question: in each game you played, what is the fewest number of cubes of each color that could have been in the bag to make the game possible?\n",
    "\n",
    "For each game, find the minimum set of cubes that must have been present. What is the sum of the power of these sets?"
   ]
  },
  {
   "cell_type": "code",
   "execution_count": 14,
   "id": "08bec271",
   "metadata": {},
   "outputs": [
    {
     "name": "stdout",
     "output_type": "stream",
     "text": [
      "55593\n"
     ]
    }
   ],
   "source": [
    "file_name = \"day2.txt\"\n",
    "\n",
    "with open(file_name) as file:\n",
    "    powers = []\n",
    "    for row in file:\n",
    "        min_red = 0\n",
    "        min_green = 0\n",
    "        min_blue = 0\n",
    "        \n",
    "        s = row.strip()\n",
    "        sets = s.split(\": \")[1].split(\"; \")\n",
    "        for set in sets:\n",
    "            draws = set.split(\", \")\n",
    "            for draw in draws:\n",
    "                amt = int(draw.split(\" \")[0])\n",
    "                color = draw.split(\" \")[1]\n",
    "                \n",
    "                if color == \"red\":\n",
    "                    min_red = max(min_red, amt)\n",
    "                elif color == \"green\":\n",
    "                    min_green = max(min_green, amt)\n",
    "                else:\n",
    "                    min_blue = max(min_blue, amt)\n",
    "        powers.append(min_red * min_green * min_blue)\n",
    "    print(sum(powers))"
   ]
  },
  {
   "cell_type": "markdown",
   "id": "895d669b",
   "metadata": {},
   "source": [
    "# Day 3 Part 1\n",
    "The engineer explains that an engine part seems to be missing from the engine, but nobody can figure out which one. If you can add up all the part numbers in the engine schematic, it should be easy to work out which part is missing.\n",
    "\n",
    "The engine schematic (your puzzle input) consists of a visual representation of the engine. There are lots of numbers and symbols you don't really understand, but apparently any number adjacent to a symbol, even diagonally, is a \"part number\" and should be included in your sum. (Periods (.) do not count as a symbol.)\n",
    "\n",
    "Example:\n",
    "\n",
    "```\n",
    "467..114..\n",
    "...*......\n",
    "..35..633.\n",
    "......#...\n",
    "617*......\n",
    ".....+.58.\n",
    "..592.....\n",
    "......755.\n",
    "...$.*....\n",
    ".664.598..\n",
    "```"
   ]
  },
  {
   "cell_type": "code",
   "execution_count": 32,
   "id": "072a71cc",
   "metadata": {},
   "outputs": [
    {
     "name": "stdout",
     "output_type": "stream",
     "text": [
      "557705\n"
     ]
    }
   ],
   "source": [
    "import re\n",
    "\n",
    "file_name = \"day3.txt\"\n",
    "with open(file_name) as file:\n",
    "    rows = [row.strip() for row in file.readlines()]\n",
    "    acc = [] #store the numbers that are part numbers\n",
    "    \n",
    "    for i in range(len(rows)):\n",
    "        for match in re.finditer(r'\\d+', rows[i]):\n",
    "            part_num = int(match.group())\n",
    "            start = match.start()\n",
    "            end = match.end()\n",
    "            \n",
    "            adj_rows = ''\n",
    "            \n",
    "            for j in range(max(i-1, 0), min(i+2, len(rows))):\n",
    "                adj_rows += rows[j][max(0, start-1):min(len(rows), end+1)]\n",
    "            \n",
    "            if re.search(r'[^\\w\\.]', adj_rows):\n",
    "                acc.append(part_num)\n",
    "        \n",
    "    print(sum(acc))"
   ]
  },
  {
   "cell_type": "markdown",
   "id": "e7f2d11f",
   "metadata": {},
   "source": [
    "# Day 3 Part 2\n",
    "The missing part wasn't the only issue - one of the gears in the engine is wrong. A gear is any * symbol that is adjacent to exactly two part numbers. Its gear ratio is the result of multiplying those two numbers together.\n",
    "\n",
    "This time, you need to find the gear ratio of every gear and add them all up so that the engineer can figure out which gear needs to be replaced."
   ]
  },
  {
   "cell_type": "code",
   "execution_count": 60,
   "id": "3190610b",
   "metadata": {},
   "outputs": [
    {
     "name": "stdout",
     "output_type": "stream",
     "text": [
      "84266818\n"
     ]
    }
   ],
   "source": [
    "import re\n",
    "\n",
    "file_name = \"day3.txt\"\n",
    "with open(file_name) as file:\n",
    "    rows = [row.strip() for row in file.readlines()]\n",
    "    acc = [] #store the gear ratios\n",
    "    \n",
    "    for i in range(len(rows)):\n",
    "        for match in re.finditer(r'\\*', rows[i]):\n",
    "            adj_rows = rows[max(i-1, 0):min(i+2,len(rows))]\n",
    "            to_search = []\n",
    "            start = match.start()\n",
    "            end = match.end()\n",
    "#             for row in adj_rows:\n",
    "#                 to_search.append(row[max(0, start - 3):min(end+3, len(row))])\n",
    "            \n",
    "            adj_nums = []\n",
    "            for row in adj_rows:\n",
    "#                 print(row)\n",
    "                for match in re.finditer(r'\\d+', row):\n",
    "                    pos_range = {start - 1, start, end}\n",
    "#                     print(match.start(), match.end(), start)\n",
    "                    if match.start() in pos_range or match.end() -1 in pos_range:\n",
    "                        adj_nums.append(int(match.group()))\n",
    "            \n",
    "#             print(adj_nums)\n",
    "            \n",
    "            if len(adj_nums) == 2:\n",
    "                acc.append(adj_nums[0] * adj_nums[1])\n",
    "    print(sum(acc))"
   ]
  },
  {
   "cell_type": "markdown",
   "id": "818dd0cc",
   "metadata": {},
   "source": [
    "# Day 4 Part 1\n",
    "The Elf leads you over to the pile of colorful cards. There, you discover dozens of scratchcards, all with their opaque covering already scratched off. Picking one up, it looks like each card has two lists of numbers separated by a vertical bar (|): a list of winning numbers and then a list of numbers you have. You organize the information into a table (your puzzle input).\n",
    "\n",
    "As far as the Elf has been able to figure out, you have to figure out which of the numbers you have appear in the list of winning numbers. The first match makes the card worth one point and each match after the first doubles the point value of that card."
   ]
  },
  {
   "cell_type": "code",
   "execution_count": 23,
   "id": "1bf3c9ff",
   "metadata": {},
   "outputs": [
    {
     "name": "stdout",
     "output_type": "stream",
     "text": [
      "13\n"
     ]
    }
   ],
   "source": [
    "import re\n",
    "\n",
    "file_name = \"day4.txt\"\n",
    "with open(file_name) as file:\n",
    "    scores = []\n",
    "    for row in file:\n",
    "        row = row.strip()\n",
    "        numbers = row.split(\": \")[1]\n",
    "        num_split = numbers.split(\" | \")\n",
    "        winning_str = num_split[0]\n",
    "        card_nums = num_split[1]\n",
    "        \n",
    "        d = set()\n",
    "        \n",
    "        for match in re.finditer(r'\\d+', card_nums):\n",
    "            d.add(int(match.group()))\n",
    "        \n",
    "        num_matches = 0\n",
    "        for match in re.finditer(r'\\d+', winning_str):\n",
    "            if int(match.group()) in d:\n",
    "                num_matches += 1\n",
    "        \n",
    "        if num_matches == 0:\n",
    "            score = 0\n",
    "        else:\n",
    "            score = 2**(num_matches-1)\n",
    "            \n",
    "        scores.append(score)\n",
    "        \n",
    "    print(sum(scores))"
   ]
  },
  {
   "cell_type": "markdown",
   "id": "be93bcff",
   "metadata": {},
   "source": [
    "# Day 4 Part 2\n",
    "There's no such thing as \"points\". Instead, scratchcards only cause you to win more scratchcards equal to the number of winning numbers you have.\n",
    "\n",
    "Specifically, you win copies of the scratchcards below the winning card equal to the number of matches. So, if card 10 were to have 5 matching numbers, you would win one copy each of cards 11, 12, 13, 14, and 15.\n",
    "\n",
    "Copies of scratchcards are scored like normal scratchcards and have the same card number as the card they copied. So, if you win a copy of card 10 and it has 5 matching numbers, it would then win a copy of the same cards that the original card 10 won: cards 11, 12, 13, 14, and 15. This process repeats until none of the copies cause you to win any more cards. (Cards will never make you copy a card past the end of the table.)"
   ]
  },
  {
   "cell_type": "code",
   "execution_count": 33,
   "id": "57bdf0d0",
   "metadata": {},
   "outputs": [
    {
     "name": "stdout",
     "output_type": "stream",
     "text": [
      "5744979\n"
     ]
    }
   ],
   "source": [
    "import re\n",
    "from collections import defaultdict\n",
    "\n",
    "file_name = \"day4.txt\"\n",
    "with open(file_name) as file:\n",
    "    copies = defaultdict(lambda: 1)\n",
    "    total_copies = 0\n",
    "    for row in file:\n",
    "        row = row.strip()\n",
    "        numbers = row.split(\": \")\n",
    "        card_number = int(re.search(r'\\d+', numbers[0]).group())\n",
    "        num_split = numbers[1].split(\" | \")\n",
    "        winning_str = num_split[0]\n",
    "        containing_nums = num_split[1]\n",
    "        \n",
    "        d = set()\n",
    "        \n",
    "        for match in re.finditer(r'\\d+', containing_nums):\n",
    "            d.add(int(match.group()))\n",
    "        \n",
    "        num_matches = 0\n",
    "        for match in re.finditer(r'\\d+', winning_str):\n",
    "            if int(match.group()) in d:\n",
    "                num_matches += 1\n",
    "        \n",
    "        for i in range(num_matches):\n",
    "            copies[card_number + i + 1] += copies[card_number]\n",
    "        total_copies += copies[card_number]\n",
    "        \n",
    "    print(total_copies)"
   ]
  }
 ],
 "metadata": {
  "kernelspec": {
   "display_name": "Python 3 (ipykernel)",
   "language": "python",
   "name": "python3"
  },
  "language_info": {
   "codemirror_mode": {
    "name": "ipython",
    "version": 3
   },
   "file_extension": ".py",
   "mimetype": "text/x-python",
   "name": "python",
   "nbconvert_exporter": "python",
   "pygments_lexer": "ipython3",
   "version": "3.11.4"
  }
 },
 "nbformat": 4,
 "nbformat_minor": 5
}
